{
 "cells": [
  {
   "cell_type": "code",
   "execution_count": 1,
   "metadata": {},
   "outputs": [],
   "source": [
    "# # Install MLflow and its dependencies\n",
    "# !pip install mlflow==2.9.0\n",
    "# !pip install lz4==4.3.3\n",
    "# !pip install numpy==1.26.4\n",
    "# !pip install pandas==1.3.0\n",
    "# !pip install scikit-learn==1.6.0\n",
    "# !pip install scipy==1.11.4\n",
    "# !pip install xgboost==2.1.3"
   ]
  },
  {
   "cell_type": "code",
   "execution_count": 2,
   "metadata": {},
   "outputs": [],
   "source": [
    "import pandas as pd\n",
    "from loguru import logger\n",
    "\n",
    "import mlflow\n",
    "from mlflow.tracking import MlflowClient\n",
    "\n",
    "# Configure logging\n",
    "logger.add(\"logs/inference.log\")\n",
    "\n",
    "# Set MLflow tracking URI\n",
    "mlflow.set_tracking_uri(\"http://localhost:5001\")\n",
    "\n",
    "\n",
    "def load_latest_model_and_mappings(model_name: str):\n",
    "    \"\"\"Load the latest model version and its category mappings\"\"\"\n",
    "    client = MlflowClient()\n",
    "\n",
    "    try:\n",
    "        # Get latest model version using aliases instead of stages\n",
    "        logger.info(f\"Attempting to load latest version of model: {model_name}\")\n",
    "        latest_version = client.get_model_version_by_alias(model_name, \"current\")\n",
    "        run_id = latest_version.run_id\n",
    "        logger.info(f\"Found model version: {latest_version.version} with run_id: {run_id}\")\n",
    "\n",
    "        if not run_id:\n",
    "            logger.error(\"No run_id found for the model version\")\n",
    "            return None, None\n",
    "\n",
    "        # Load the model\n",
    "        model = mlflow.pyfunc.load_model(f\"models:/{model_name}@current\")\n",
    "        logger.info(\"Model loaded successfully\")\n",
    "\n",
    "        # Get category mappings from the same run\n",
    "        try:\n",
    "            # List artifacts to debug\n",
    "            logger.info(f\"Listing artifacts for run_id: {run_id}\")\n",
    "            artifacts = client.list_artifacts(run_id)\n",
    "            logger.info(f\"Available artifacts: {[art.path for art in artifacts]}\")\n",
    "            \n",
    "            # Try to load the mappings\n",
    "            category_mappings = mlflow.artifacts.load_dict(\n",
    "                f\"runs:/{run_id}/category_mappings.json\"\n",
    "            )\n",
    "            logger.info(\"Category mappings loaded successfully\")\n",
    "            logger.debug(f\"Mappings content: {category_mappings}\")\n",
    "            \n",
    "            return model, category_mappings\n",
    "\n",
    "        except Exception as e:\n",
    "            logger.error(f\"Error loading category mappings: {e}\")\n",
    "            return None, None\n",
    "\n",
    "    except Exception as e:\n",
    "        logger.error(f\"Error loading model: {e}\")\n",
    "        return None, None"
   ]
  },
  {
   "cell_type": "code",
   "execution_count": 3,
   "metadata": {},
   "outputs": [
    {
     "name": "stderr",
     "output_type": "stream",
     "text": [
      "\u001b[32m2024-12-24 23:27:25.156\u001b[0m | \u001b[1mINFO    \u001b[0m | \u001b[36m__main__\u001b[0m:\u001b[36mload_latest_model_and_mappings\u001b[0m:\u001b[36m20\u001b[0m - \u001b[1mAttempting to load latest version of model: purchase_prediction_model\u001b[0m\n",
      "\u001b[32m2024-12-24 23:27:25.180\u001b[0m | \u001b[1mINFO    \u001b[0m | \u001b[36m__main__\u001b[0m:\u001b[36mload_latest_model_and_mappings\u001b[0m:\u001b[36m23\u001b[0m - \u001b[1mFound model version: 6 with run_id: 58c3a14211e74bb3acad6f6d7443163a\u001b[0m\n",
      "2024/12/24 23:27:25 WARNING mlflow.pyfunc: Detected one or more mismatches between the model's dependencies and the current Python environment:\n",
      " - mlflow (current: 2.9.0, required: mlflow==2.19.0)\n",
      " - xgboost (current: 2.1.3, required: xgboost==2.0.3)\n",
      "To fix the mismatches, call `mlflow.pyfunc.get_model_dependencies(model_uri)` to fetch the model's environment and install dependencies using the resulting environment file.\n",
      "\u001b[32m2024-12-24 23:27:25.797\u001b[0m | \u001b[1mINFO    \u001b[0m | \u001b[36m__main__\u001b[0m:\u001b[36mload_latest_model_and_mappings\u001b[0m:\u001b[36m31\u001b[0m - \u001b[1mModel loaded successfully\u001b[0m\n",
      "\u001b[32m2024-12-24 23:27:25.798\u001b[0m | \u001b[1mINFO    \u001b[0m | \u001b[36m__main__\u001b[0m:\u001b[36mload_latest_model_and_mappings\u001b[0m:\u001b[36m36\u001b[0m - \u001b[1mListing artifacts for run_id: 58c3a14211e74bb3acad6f6d7443163a\u001b[0m\n",
      "\u001b[32m2024-12-24 23:27:25.811\u001b[0m | \u001b[1mINFO    \u001b[0m | \u001b[36m__main__\u001b[0m:\u001b[36mload_latest_model_and_mappings\u001b[0m:\u001b[36m38\u001b[0m - \u001b[1mAvailable artifacts: ['category_mappings.json', 'model']\u001b[0m\n",
      "\u001b[32m2024-12-24 23:27:25.835\u001b[0m | \u001b[1mINFO    \u001b[0m | \u001b[36m__main__\u001b[0m:\u001b[36mload_latest_model_and_mappings\u001b[0m:\u001b[36m44\u001b[0m - \u001b[1mCategory mappings loaded successfully\u001b[0m\n",
      "\u001b[32m2024-12-24 23:27:25.835\u001b[0m | \u001b[34m\u001b[1mDEBUG   \u001b[0m | \u001b[36m__main__\u001b[0m:\u001b[36mload_latest_model_and_mappings\u001b[0m:\u001b[36m45\u001b[0m - \u001b[34m\u001b[1mMappings content: {'brand': {'apple': 0, 'ariston': 1, 'asus': 2, 'beko': 3, 'bosch': 4, 'braun': 5, 'casio': 6, 'epson': 7, 'ersport': 8, 'hp': 9, 'huawei': 10, 'huggies': 11, 'indesit': 12, 'jbl': 13, 'leadbros': 14, 'lenovo': 15, 'lg': 16, 'meizu': 17, 'nokia': 18, 'oasis': 19, 'oppo': 20, 'panasonic': 21, 'prestigio': 22, 'ritmix': 23, 'samsung': 24, 'santeri': 25, 'sv': 26, 'xiaomi': 27}, 'event_weekday': {'2.0': 0}, 'category_code_level1': {'apparel': 0, 'appliances': 1, 'computers': 2, 'electronics': 3, 'furniture': 4, 'kids': 5, 'stationery': 6}, 'category_code_level2': {'audio': 0, 'bathroom': 1, 'cartrige': 2, 'clocks': 3, 'dolls': 4, 'environment': 5, 'fmcg': 6, 'kitchen': 7, 'living_room': 8, 'notebook': 9, 'peripherals': 10, 'shoes': 11, 'smartphone': 12, 'telephone': 13, 'video': 14}}\u001b[0m\n"
     ]
    }
   ],
   "source": [
    "# Model name\n",
    "model_name = \"purchase_prediction_model\"\n",
    "\n",
    "# Load model and mappings\n",
    "model, category_mappings = load_latest_model_and_mappings(model_name)"
   ]
  },
  {
   "cell_type": "code",
   "execution_count": 4,
   "metadata": {},
   "outputs": [
    {
     "name": "stderr",
     "output_type": "stream",
     "text": [
      "\u001b[32m2024-12-24 23:27:25.841\u001b[0m | \u001b[1mINFO    \u001b[0m | \u001b[36m__main__\u001b[0m:\u001b[36m<module>\u001b[0m:\u001b[36m23\u001b[0m - \u001b[1mInput data shape: (2, 6)\u001b[0m\n"
     ]
    }
   ],
   "source": [
    "# Prepare inference data\n",
    "data = [\n",
    "    {\n",
    "        \"brand\": \"sumsung\",\n",
    "        \"price\": 130.76,\n",
    "        \"event_weekday\": 2,\n",
    "        \"category_code_level1\": \"electronics\",\n",
    "        \"category_code_level2\": \"smartphone\",\n",
    "        \"activity_count\": 1,\n",
    "    },\n",
    "    {\n",
    "        \"brand\": \"video\",\n",
    "        \"price\": 130.76,\n",
    "        \"event_weekday\": 2,\n",
    "        \"category_code_level1\": \"electronics\",\n",
    "        \"category_code_level2\": \"smartphone\",\n",
    "        \"activity_count\": 1,\n",
    "    },\n",
    "]\n",
    "\n",
    "# Convert to DataFrame\n",
    "df = pd.DataFrame(data)\n",
    "logger.info(f\"Input data shape: {df.shape}\")"
   ]
  },
  {
   "cell_type": "code",
   "execution_count": 5,
   "metadata": {},
   "outputs": [
    {
     "name": "stderr",
     "output_type": "stream",
     "text": [
      "\u001b[32m2024-12-24 23:27:25.847\u001b[0m | \u001b[1mINFO    \u001b[0m | \u001b[36m__main__\u001b[0m:\u001b[36m<module>\u001b[0m:\u001b[36m6\u001b[0m - \u001b[1mEncoded column brand\u001b[0m\n",
      "\u001b[32m2024-12-24 23:27:25.848\u001b[0m | \u001b[1mINFO    \u001b[0m | \u001b[36m__main__\u001b[0m:\u001b[36m<module>\u001b[0m:\u001b[36m6\u001b[0m - \u001b[1mEncoded column category_code_level1\u001b[0m\n",
      "\u001b[32m2024-12-24 23:27:25.849\u001b[0m | \u001b[1mINFO    \u001b[0m | \u001b[36m__main__\u001b[0m:\u001b[36m<module>\u001b[0m:\u001b[36m6\u001b[0m - \u001b[1mEncoded column category_code_level2\u001b[0m\n"
     ]
    }
   ],
   "source": [
    "# Encode categorical columns using saved mappings\n",
    "for col in [\"brand\", \"category_code_level1\", \"category_code_level2\"]:\n",
    "    mapping = category_mappings[col]\n",
    "    # Map values using the saved mapping, with -1 for unseen categories\n",
    "    df[col] = df[col].map(mapping).fillna(-1)\n",
    "    logger.info(f\"Encoded column {col}\")"
   ]
  },
  {
   "cell_type": "code",
   "execution_count": 6,
   "metadata": {},
   "outputs": [
    {
     "name": "stderr",
     "output_type": "stream",
     "text": [
      "\u001b[32m2024-12-24 23:27:25.890\u001b[0m | \u001b[1mINFO    \u001b[0m | \u001b[36m__main__\u001b[0m:\u001b[36m<module>\u001b[0m:\u001b[36m3\u001b[0m - \u001b[1mPredictions: [0.5839172 0.5839172]\u001b[0m\n"
     ]
    }
   ],
   "source": [
    "# Make predictions\n",
    "predictions = model.predict(df)\n",
    "logger.info(f\"Predictions: {predictions}\")"
   ]
  },
  {
   "cell_type": "code",
   "execution_count": 7,
   "metadata": {},
   "outputs": [
    {
     "data": {
      "text/html": [
       "<div>\n",
       "<style scoped>\n",
       "    .dataframe tbody tr th:only-of-type {\n",
       "        vertical-align: middle;\n",
       "    }\n",
       "\n",
       "    .dataframe tbody tr th {\n",
       "        vertical-align: top;\n",
       "    }\n",
       "\n",
       "    .dataframe thead th {\n",
       "        text-align: right;\n",
       "    }\n",
       "</style>\n",
       "<table border=\"1\" class=\"dataframe\">\n",
       "  <thead>\n",
       "    <tr style=\"text-align: right;\">\n",
       "      <th></th>\n",
       "      <th>brand</th>\n",
       "      <th>price</th>\n",
       "      <th>event_weekday</th>\n",
       "      <th>category_code_level1</th>\n",
       "      <th>category_code_level2</th>\n",
       "      <th>activity_count</th>\n",
       "    </tr>\n",
       "  </thead>\n",
       "  <tbody>\n",
       "    <tr>\n",
       "      <th>0</th>\n",
       "      <td>-1.0</td>\n",
       "      <td>130.76</td>\n",
       "      <td>2</td>\n",
       "      <td>3</td>\n",
       "      <td>12</td>\n",
       "      <td>1</td>\n",
       "    </tr>\n",
       "    <tr>\n",
       "      <th>1</th>\n",
       "      <td>-1.0</td>\n",
       "      <td>130.76</td>\n",
       "      <td>2</td>\n",
       "      <td>3</td>\n",
       "      <td>12</td>\n",
       "      <td>1</td>\n",
       "    </tr>\n",
       "  </tbody>\n",
       "</table>\n",
       "</div>"
      ],
      "text/plain": [
       "   brand   price  event_weekday  category_code_level1  category_code_level2  \\\n",
       "0   -1.0  130.76              2                     3                    12   \n",
       "1   -1.0  130.76              2                     3                    12   \n",
       "\n",
       "   activity_count  \n",
       "0               1  \n",
       "1               1  "
      ]
     },
     "execution_count": 7,
     "metadata": {},
     "output_type": "execute_result"
    }
   ],
   "source": [
    "df"
   ]
  },
  {
   "cell_type": "code",
   "execution_count": null,
   "metadata": {},
   "outputs": [],
   "source": []
  }
 ],
 "metadata": {
  "kernelspec": {
   "display_name": "duc_model_training",
   "language": "python",
   "name": "python3"
  },
  "language_info": {
   "codemirror_mode": {
    "name": "ipython",
    "version": 3
   },
   "file_extension": ".py",
   "mimetype": "text/x-python",
   "name": "python",
   "nbconvert_exporter": "python",
   "pygments_lexer": "ipython3",
   "version": "3.9.20"
  }
 },
 "nbformat": 4,
 "nbformat_minor": 2
}
